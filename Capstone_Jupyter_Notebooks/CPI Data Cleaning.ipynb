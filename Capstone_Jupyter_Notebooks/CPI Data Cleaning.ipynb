{
 "cells": [
  {
   "cell_type": "code",
   "execution_count": 1,
   "id": "0588854d",
   "metadata": {},
   "outputs": [],
   "source": [
    "import pandas as pd"
   ]
  },
  {
   "cell_type": "code",
   "execution_count": 3,
   "id": "e0f0037b",
   "metadata": {},
   "outputs": [],
   "source": [
    "CPI_data=pd.read_csv('ConsumerPriceIndices_E_All_Data_(Normalized).csv', engine='python',encoding='latin1')"
   ]
  },
  {
   "cell_type": "code",
   "execution_count": 4,
   "id": "80770e94",
   "metadata": {},
   "outputs": [
    {
     "data": {
      "text/html": [
       "<div>\n",
       "<style scoped>\n",
       "    .dataframe tbody tr th:only-of-type {\n",
       "        vertical-align: middle;\n",
       "    }\n",
       "\n",
       "    .dataframe tbody tr th {\n",
       "        vertical-align: top;\n",
       "    }\n",
       "\n",
       "    .dataframe thead th {\n",
       "        text-align: right;\n",
       "    }\n",
       "</style>\n",
       "<table border=\"1\" class=\"dataframe\">\n",
       "  <thead>\n",
       "    <tr style=\"text-align: right;\">\n",
       "      <th></th>\n",
       "      <th>Area Code</th>\n",
       "      <th>Area Code (M49)</th>\n",
       "      <th>Area</th>\n",
       "      <th>Item Code</th>\n",
       "      <th>Item</th>\n",
       "      <th>Months Code</th>\n",
       "      <th>Months</th>\n",
       "      <th>Year Code</th>\n",
       "      <th>Year</th>\n",
       "      <th>Unit</th>\n",
       "      <th>Value</th>\n",
       "      <th>Flag</th>\n",
       "      <th>Note</th>\n",
       "    </tr>\n",
       "  </thead>\n",
       "  <tbody>\n",
       "    <tr>\n",
       "      <th>0</th>\n",
       "      <td>2</td>\n",
       "      <td>4</td>\n",
       "      <td>Afghanistan</td>\n",
       "      <td>23013</td>\n",
       "      <td>Consumer Prices, Food Indices (2015 = 100)</td>\n",
       "      <td>7001</td>\n",
       "      <td>January</td>\n",
       "      <td>2000</td>\n",
       "      <td>2000</td>\n",
       "      <td>NaN</td>\n",
       "      <td>24.356332</td>\n",
       "      <td>F</td>\n",
       "      <td>base year is 2015</td>\n",
       "    </tr>\n",
       "    <tr>\n",
       "      <th>1</th>\n",
       "      <td>2</td>\n",
       "      <td>4</td>\n",
       "      <td>Afghanistan</td>\n",
       "      <td>23013</td>\n",
       "      <td>Consumer Prices, Food Indices (2015 = 100)</td>\n",
       "      <td>7001</td>\n",
       "      <td>January</td>\n",
       "      <td>2001</td>\n",
       "      <td>2001</td>\n",
       "      <td>NaN</td>\n",
       "      <td>29.944592</td>\n",
       "      <td>F</td>\n",
       "      <td>base year is 2015</td>\n",
       "    </tr>\n",
       "    <tr>\n",
       "      <th>2</th>\n",
       "      <td>2</td>\n",
       "      <td>4</td>\n",
       "      <td>Afghanistan</td>\n",
       "      <td>23013</td>\n",
       "      <td>Consumer Prices, Food Indices (2015 = 100)</td>\n",
       "      <td>7001</td>\n",
       "      <td>January</td>\n",
       "      <td>2002</td>\n",
       "      <td>2002</td>\n",
       "      <td>NaN</td>\n",
       "      <td>33.421952</td>\n",
       "      <td>F</td>\n",
       "      <td>base year is 2015</td>\n",
       "    </tr>\n",
       "    <tr>\n",
       "      <th>3</th>\n",
       "      <td>2</td>\n",
       "      <td>4</td>\n",
       "      <td>Afghanistan</td>\n",
       "      <td>23013</td>\n",
       "      <td>Consumer Prices, Food Indices (2015 = 100)</td>\n",
       "      <td>7001</td>\n",
       "      <td>January</td>\n",
       "      <td>2003</td>\n",
       "      <td>2003</td>\n",
       "      <td>NaN</td>\n",
       "      <td>39.967661</td>\n",
       "      <td>F</td>\n",
       "      <td>base year is 2015</td>\n",
       "    </tr>\n",
       "    <tr>\n",
       "      <th>4</th>\n",
       "      <td>2</td>\n",
       "      <td>4</td>\n",
       "      <td>Afghanistan</td>\n",
       "      <td>23013</td>\n",
       "      <td>Consumer Prices, Food Indices (2015 = 100)</td>\n",
       "      <td>7001</td>\n",
       "      <td>January</td>\n",
       "      <td>2004</td>\n",
       "      <td>2004</td>\n",
       "      <td>NaN</td>\n",
       "      <td>43.401939</td>\n",
       "      <td>F</td>\n",
       "      <td>base year is 2015</td>\n",
       "    </tr>\n",
       "  </tbody>\n",
       "</table>\n",
       "</div>"
      ],
      "text/plain": [
       "   Area Code  Area Code (M49)         Area  Item Code  \\\n",
       "0          2                4  Afghanistan      23013   \n",
       "1          2                4  Afghanistan      23013   \n",
       "2          2                4  Afghanistan      23013   \n",
       "3          2                4  Afghanistan      23013   \n",
       "4          2                4  Afghanistan      23013   \n",
       "\n",
       "                                         Item  Months Code   Months  \\\n",
       "0  Consumer Prices, Food Indices (2015 = 100)         7001  January   \n",
       "1  Consumer Prices, Food Indices (2015 = 100)         7001  January   \n",
       "2  Consumer Prices, Food Indices (2015 = 100)         7001  January   \n",
       "3  Consumer Prices, Food Indices (2015 = 100)         7001  January   \n",
       "4  Consumer Prices, Food Indices (2015 = 100)         7001  January   \n",
       "\n",
       "   Year Code  Year Unit      Value Flag               Note  \n",
       "0       2000  2000  NaN  24.356332    F  base year is 2015  \n",
       "1       2001  2001  NaN  29.944592    F  base year is 2015  \n",
       "2       2002  2002  NaN  33.421952    F  base year is 2015  \n",
       "3       2003  2003  NaN  39.967661    F  base year is 2015  \n",
       "4       2004  2004  NaN  43.401939    F  base year is 2015  "
      ]
     },
     "execution_count": 4,
     "metadata": {},
     "output_type": "execute_result"
    }
   ],
   "source": [
    "CPI_data.head(5)"
   ]
  },
  {
   "cell_type": "code",
   "execution_count": 5,
   "id": "c4bf626a",
   "metadata": {},
   "outputs": [
    {
     "data": {
      "text/plain": [
       "Area Code               0\n",
       "Area Code (M49)         0\n",
       "Area                    0\n",
       "Item Code               0\n",
       "Item                    0\n",
       "Months Code             0\n",
       "Months                  0\n",
       "Year Code               0\n",
       "Year                    0\n",
       "Unit               121827\n",
       "Value                   0\n",
       "Flag                13416\n",
       "Note                57693\n",
       "dtype: int64"
      ]
     },
     "execution_count": 5,
     "metadata": {},
     "output_type": "execute_result"
    }
   ],
   "source": [
    "CPI_data.isnull().sum()"
   ]
  },
  {
   "cell_type": "code",
   "execution_count": 6,
   "id": "ee18e7ec",
   "metadata": {},
   "outputs": [],
   "source": [
    "CPI_data.drop(columns=['Flag', 'Note'], inplace=True)"
   ]
  },
  {
   "cell_type": "code",
   "execution_count": 11,
   "id": "55660e7c",
   "metadata": {},
   "outputs": [],
   "source": [
    "CPI_data.drop(columns='Year Code', inplace=True)"
   ]
  },
  {
   "cell_type": "code",
   "execution_count": 12,
   "id": "1df9b9dc",
   "metadata": {},
   "outputs": [
    {
     "data": {
      "text/plain": [
       "Area Code          0\n",
       "Area Code (M49)    0\n",
       "Area               0\n",
       "Item Code          0\n",
       "Item               0\n",
       "Months Code        0\n",
       "Months             0\n",
       "Year               0\n",
       "Unit               0\n",
       "Value              0\n",
       "dtype: int64"
      ]
     },
     "execution_count": 12,
     "metadata": {},
     "output_type": "execute_result"
    }
   ],
   "source": [
    "CPI_data.isnull().sum()"
   ]
  },
  {
   "cell_type": "code",
   "execution_count": 9,
   "id": "c3672fd3",
   "metadata": {},
   "outputs": [],
   "source": [
    "CPI_data.fillna('CPI (Base Year is 2015)', inplace=True)"
   ]
  },
  {
   "cell_type": "code",
   "execution_count": 13,
   "id": "a299887f",
   "metadata": {},
   "outputs": [
    {
     "data": {
      "text/plain": [
       "Area Code          0\n",
       "Area Code (M49)    0\n",
       "Area               0\n",
       "Item Code          0\n",
       "Item               0\n",
       "Months Code        0\n",
       "Months             0\n",
       "Year               0\n",
       "Unit               0\n",
       "Value              0\n",
       "dtype: int64"
      ]
     },
     "execution_count": 13,
     "metadata": {},
     "output_type": "execute_result"
    }
   ],
   "source": [
    "CPI_data.isnull().sum()"
   ]
  },
  {
   "cell_type": "code",
   "execution_count": 16,
   "id": "cd00d08a",
   "metadata": {},
   "outputs": [
    {
     "data": {
      "text/plain": [
       "Consumer Prices, Food Indices (2015 = 100)            AxesSubplot(0.1,0.559091;0.363636x0.340909)\n",
       "Consumer Prices, General Indices (2015 = 100)    AxesSubplot(0.536364,0.559091;0.363636x0.340909)\n",
       "Food price inflation                                      AxesSubplot(0.1,0.15;0.363636x0.340909)\n",
       "dtype: object"
      ]
     },
     "execution_count": 16,
     "metadata": {},
     "output_type": "execute_result"
    },
    {
     "data": {
      "image/png": "[encoded data removed]",
      "text/plain": [
       "<Figure size 432x288 with 4 Axes>"
      ]
     },
     "metadata": {
      "needs_background": "light"
     },
     "output_type": "display_data"
    }
   ],
   "source": [
    "CPI_data.groupby('Item').boxplot(column='Value')"
   ]
  },
  {
   "cell_type": "code",
   "execution_count": 18,
   "id": "4ad4611e",
   "metadata": {},
   "outputs": [],
   "source": [
    "CPI_data.to_csv ('CPI_data_cleaned.csv', index = False, header=True)"
   ]
  }
 ],
 "metadata": {
  "kernelspec": {
   "display_name": "Python 3 (ipykernel)",
   "language": "python",
   "name": "python3"
  },
  "language_info": {
   "codemirror_mode": {
    "name": "ipython",
    "version": 3
   },
   "file_extension": ".py",
   "mimetype": "text/x-python",
   "name": "python",
   "nbconvert_exporter": "python",
   "pygments_lexer": "ipython3",
   "version": "3.9.12"
  }
 },
 "nbformat": 4,
 "nbformat_minor": 5
}
