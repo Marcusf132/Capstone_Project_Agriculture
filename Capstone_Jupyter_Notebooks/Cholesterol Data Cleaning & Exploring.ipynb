{
 "cells": [
  {
   "cell_type": "code",
   "execution_count": 1,
   "id": "b09f01c9",
   "metadata": {},
   "outputs": [],
   "source": [
    "import pandas as pd"
   ]
  },
  {
   "cell_type": "code",
   "execution_count": 2,
   "id": "cc9e687e",
   "metadata": {},
   "outputs": [],
   "source": [
    "cholesterol_data =pd.read_csv('Cholesterol.csv')"
   ]
  },
  {
   "cell_type": "code",
   "execution_count": 3,
   "id": "979098be",
   "metadata": {},
   "outputs": [
    {
     "data": {
      "text/html": [
       "<div>\n",
       "<style scoped>\n",
       "    .dataframe tbody tr th:only-of-type {\n",
       "        vertical-align: middle;\n",
       "    }\n",
       "\n",
       "    .dataframe tbody tr th {\n",
       "        vertical-align: top;\n",
       "    }\n",
       "\n",
       "    .dataframe thead th {\n",
       "        text-align: right;\n",
       "    }\n",
       "</style>\n",
       "<table border=\"1\" class=\"dataframe\">\n",
       "  <thead>\n",
       "    <tr style=\"text-align: right;\">\n",
       "      <th></th>\n",
       "      <th>Country/Region/World</th>\n",
       "      <th>ISO</th>\n",
       "      <th>Sex</th>\n",
       "      <th>Year</th>\n",
       "      <th>Mean total cholesterol (mmol/L)</th>\n",
       "      <th>Mean total cholesterol lower 95% uncertainty interval (mmol/L)</th>\n",
       "      <th>Mean total cholesterol upper 95% uncertainty interval (mmol/L)</th>\n",
       "      <th>Mean non-HDL cholesterol (mmol/L)</th>\n",
       "      <th>Mean non-HDL cholesterol lower 95% uncertainty interval (mmol/L)</th>\n",
       "      <th>Mean non-HDL cholesterol upper 95% uncertainty interval (mmol/L)</th>\n",
       "      <th>Mean HDL cholesterol (mmol/L)</th>\n",
       "      <th>Mean HDL cholesterol lower 95% uncertainty interval (mmol/L)</th>\n",
       "      <th>Mean HDL cholesterol upper 95% uncertainty interval (mmol/L)</th>\n",
       "    </tr>\n",
       "  </thead>\n",
       "  <tbody>\n",
       "    <tr>\n",
       "      <th>0</th>\n",
       "      <td>Afghanistan</td>\n",
       "      <td>AFG</td>\n",
       "      <td>Men</td>\n",
       "      <td>1980</td>\n",
       "      <td>4.263545</td>\n",
       "      <td>3.539636</td>\n",
       "      <td>4.959936</td>\n",
       "      <td>2.919134</td>\n",
       "      <td>2.486837</td>\n",
       "      <td>3.339214</td>\n",
       "      <td>1.221839</td>\n",
       "      <td>0.926460</td>\n",
       "      <td>1.497237</td>\n",
       "    </tr>\n",
       "    <tr>\n",
       "      <th>1</th>\n",
       "      <td>Afghanistan</td>\n",
       "      <td>AFG</td>\n",
       "      <td>Men</td>\n",
       "      <td>1981</td>\n",
       "      <td>4.266327</td>\n",
       "      <td>3.569655</td>\n",
       "      <td>4.931141</td>\n",
       "      <td>2.934723</td>\n",
       "      <td>2.512884</td>\n",
       "      <td>3.344176</td>\n",
       "      <td>1.214738</td>\n",
       "      <td>0.932500</td>\n",
       "      <td>1.476955</td>\n",
       "    </tr>\n",
       "    <tr>\n",
       "      <th>2</th>\n",
       "      <td>Afghanistan</td>\n",
       "      <td>AFG</td>\n",
       "      <td>Men</td>\n",
       "      <td>1982</td>\n",
       "      <td>4.269252</td>\n",
       "      <td>3.612601</td>\n",
       "      <td>4.904159</td>\n",
       "      <td>2.950451</td>\n",
       "      <td>2.543536</td>\n",
       "      <td>3.345615</td>\n",
       "      <td>1.207716</td>\n",
       "      <td>0.935305</td>\n",
       "      <td>1.462378</td>\n",
       "    </tr>\n",
       "    <tr>\n",
       "      <th>3</th>\n",
       "      <td>Afghanistan</td>\n",
       "      <td>AFG</td>\n",
       "      <td>Men</td>\n",
       "      <td>1983</td>\n",
       "      <td>4.272437</td>\n",
       "      <td>3.646602</td>\n",
       "      <td>4.881011</td>\n",
       "      <td>2.966397</td>\n",
       "      <td>2.570361</td>\n",
       "      <td>3.353339</td>\n",
       "      <td>1.200752</td>\n",
       "      <td>0.943039</td>\n",
       "      <td>1.444552</td>\n",
       "    </tr>\n",
       "    <tr>\n",
       "      <th>4</th>\n",
       "      <td>Afghanistan</td>\n",
       "      <td>AFG</td>\n",
       "      <td>Men</td>\n",
       "      <td>1984</td>\n",
       "      <td>4.275822</td>\n",
       "      <td>3.673783</td>\n",
       "      <td>4.866126</td>\n",
       "      <td>2.982507</td>\n",
       "      <td>2.598309</td>\n",
       "      <td>3.360546</td>\n",
       "      <td>1.193839</td>\n",
       "      <td>0.947619</td>\n",
       "      <td>1.427836</td>\n",
       "    </tr>\n",
       "  </tbody>\n",
       "</table>\n",
       "</div>"
      ],
      "text/plain": [
       "  Country/Region/World  ISO  Sex  Year  Mean total cholesterol (mmol/L)  \\\n",
       "0          Afghanistan  AFG  Men  1980                         4.263545   \n",
       "1          Afghanistan  AFG  Men  1981                         4.266327   \n",
       "2          Afghanistan  AFG  Men  1982                         4.269252   \n",
       "3          Afghanistan  AFG  Men  1983                         4.272437   \n",
       "4          Afghanistan  AFG  Men  1984                         4.275822   \n",
       "\n",
       "   Mean total cholesterol lower 95% uncertainty interval (mmol/L)  \\\n",
       "0                                           3.539636                \n",
       "1                                           3.569655                \n",
       "2                                           3.612601                \n",
       "3                                           3.646602                \n",
       "4                                           3.673783                \n",
       "\n",
       "   Mean total cholesterol upper 95% uncertainty interval (mmol/L)  \\\n",
       "0                                           4.959936                \n",
       "1                                           4.931141                \n",
       "2                                           4.904159                \n",
       "3                                           4.881011                \n",
       "4                                           4.866126                \n",
       "\n",
       "   Mean non-HDL cholesterol (mmol/L)  \\\n",
       "0                           2.919134   \n",
       "1                           2.934723   \n",
       "2                           2.950451   \n",
       "3                           2.966397   \n",
       "4                           2.982507   \n",
       "\n",
       "   Mean non-HDL cholesterol lower 95% uncertainty interval (mmol/L)  \\\n",
       "0                                           2.486837                  \n",
       "1                                           2.512884                  \n",
       "2                                           2.543536                  \n",
       "3                                           2.570361                  \n",
       "4                                           2.598309                  \n",
       "\n",
       "   Mean non-HDL cholesterol upper 95% uncertainty interval (mmol/L)  \\\n",
       "0                                           3.339214                  \n",
       "1                                           3.344176                  \n",
       "2                                           3.345615                  \n",
       "3                                           3.353339                  \n",
       "4                                           3.360546                  \n",
       "\n",
       "   Mean HDL cholesterol (mmol/L)  \\\n",
       "0                       1.221839   \n",
       "1                       1.214738   \n",
       "2                       1.207716   \n",
       "3                       1.200752   \n",
       "4                       1.193839   \n",
       "\n",
       "   Mean HDL cholesterol lower 95% uncertainty interval (mmol/L)  \\\n",
       "0                                           0.926460              \n",
       "1                                           0.932500              \n",
       "2                                           0.935305              \n",
       "3                                           0.943039              \n",
       "4                                           0.947619              \n",
       "\n",
       "   Mean HDL cholesterol upper 95% uncertainty interval (mmol/L)  \n",
       "0                                           1.497237             \n",
       "1                                           1.476955             \n",
       "2                                           1.462378             \n",
       "3                                           1.444552             \n",
       "4                                           1.427836             "
      ]
     },
     "execution_count": 3,
     "metadata": {},
     "output_type": "execute_result"
    }
   ],
   "source": [
    "cholesterol_data.head(5)"
   ]
  },
  {
   "cell_type": "code",
   "execution_count": 4,
   "id": "ab2776c9",
   "metadata": {},
   "outputs": [],
   "source": [
    "# Dropping columns\n",
    "cholesterol_data.drop(columns=['Mean total cholesterol lower 95% uncertainty interval (mmol/L)', 'Mean total cholesterol upper 95% uncertainty interval (mmol/L)', 'Mean non-HDL cholesterol lower 95% uncertainty interval (mmol/L)', 'Mean non-HDL cholesterol upper 95% uncertainty interval (mmol/L)', 'Mean HDL cholesterol lower 95% uncertainty interval (mmol/L)', 'Mean HDL cholesterol upper 95% uncertainty interval (mmol/L)'], inplace=True)"
   ]
  },
  {
   "cell_type": "code",
   "execution_count": 5,
   "id": "7eed6e17",
   "metadata": {},
   "outputs": [
    {
     "data": {
      "text/html": [
       "<div>\n",
       "<style scoped>\n",
       "    .dataframe tbody tr th:only-of-type {\n",
       "        vertical-align: middle;\n",
       "    }\n",
       "\n",
       "    .dataframe tbody tr th {\n",
       "        vertical-align: top;\n",
       "    }\n",
       "\n",
       "    .dataframe thead th {\n",
       "        text-align: right;\n",
       "    }\n",
       "</style>\n",
       "<table border=\"1\" class=\"dataframe\">\n",
       "  <thead>\n",
       "    <tr style=\"text-align: right;\">\n",
       "      <th></th>\n",
       "      <th>Country/Region/World</th>\n",
       "      <th>ISO</th>\n",
       "      <th>Sex</th>\n",
       "      <th>Year</th>\n",
       "      <th>Mean total cholesterol (mmol/L)</th>\n",
       "      <th>Mean non-HDL cholesterol (mmol/L)</th>\n",
       "      <th>Mean HDL cholesterol (mmol/L)</th>\n",
       "    </tr>\n",
       "  </thead>\n",
       "  <tbody>\n",
       "    <tr>\n",
       "      <th>0</th>\n",
       "      <td>Afghanistan</td>\n",
       "      <td>AFG</td>\n",
       "      <td>Men</td>\n",
       "      <td>1980</td>\n",
       "      <td>4.263545</td>\n",
       "      <td>2.919134</td>\n",
       "      <td>1.221839</td>\n",
       "    </tr>\n",
       "    <tr>\n",
       "      <th>1</th>\n",
       "      <td>Afghanistan</td>\n",
       "      <td>AFG</td>\n",
       "      <td>Men</td>\n",
       "      <td>1981</td>\n",
       "      <td>4.266327</td>\n",
       "      <td>2.934723</td>\n",
       "      <td>1.214738</td>\n",
       "    </tr>\n",
       "    <tr>\n",
       "      <th>2</th>\n",
       "      <td>Afghanistan</td>\n",
       "      <td>AFG</td>\n",
       "      <td>Men</td>\n",
       "      <td>1982</td>\n",
       "      <td>4.269252</td>\n",
       "      <td>2.950451</td>\n",
       "      <td>1.207716</td>\n",
       "    </tr>\n",
       "    <tr>\n",
       "      <th>3</th>\n",
       "      <td>Afghanistan</td>\n",
       "      <td>AFG</td>\n",
       "      <td>Men</td>\n",
       "      <td>1983</td>\n",
       "      <td>4.272437</td>\n",
       "      <td>2.966397</td>\n",
       "      <td>1.200752</td>\n",
       "    </tr>\n",
       "    <tr>\n",
       "      <th>4</th>\n",
       "      <td>Afghanistan</td>\n",
       "      <td>AFG</td>\n",
       "      <td>Men</td>\n",
       "      <td>1984</td>\n",
       "      <td>4.275822</td>\n",
       "      <td>2.982507</td>\n",
       "      <td>1.193839</td>\n",
       "    </tr>\n",
       "  </tbody>\n",
       "</table>\n",
       "</div>"
      ],
      "text/plain": [
       "  Country/Region/World  ISO  Sex  Year  Mean total cholesterol (mmol/L)  \\\n",
       "0          Afghanistan  AFG  Men  1980                         4.263545   \n",
       "1          Afghanistan  AFG  Men  1981                         4.266327   \n",
       "2          Afghanistan  AFG  Men  1982                         4.269252   \n",
       "3          Afghanistan  AFG  Men  1983                         4.272437   \n",
       "4          Afghanistan  AFG  Men  1984                         4.275822   \n",
       "\n",
       "   Mean non-HDL cholesterol (mmol/L)  Mean HDL cholesterol (mmol/L)  \n",
       "0                           2.919134                       1.221839  \n",
       "1                           2.934723                       1.214738  \n",
       "2                           2.950451                       1.207716  \n",
       "3                           2.966397                       1.200752  \n",
       "4                           2.982507                       1.193839  "
      ]
     },
     "execution_count": 5,
     "metadata": {},
     "output_type": "execute_result"
    }
   ],
   "source": [
    "cholesterol_data.head(5)"
   ]
  },
  {
   "cell_type": "code",
   "execution_count": 6,
   "id": "9fe03190",
   "metadata": {},
   "outputs": [
    {
     "data": {
      "text/plain": [
       "Country/Region/World                 0\n",
       "ISO                                  0\n",
       "Sex                                  0\n",
       "Year                                 0\n",
       "Mean total cholesterol (mmol/L)      0\n",
       "Mean non-HDL cholesterol (mmol/L)    0\n",
       "Mean HDL cholesterol (mmol/L)        0\n",
       "dtype: int64"
      ]
     },
     "execution_count": 6,
     "metadata": {},
     "output_type": "execute_result"
    }
   ],
   "source": [
    "# Checking for NULLs\n",
    "cholesterol_data.isnull().sum()"
   ]
  },
  {
   "cell_type": "code",
   "execution_count": 7,
   "id": "75a638d2",
   "metadata": {},
   "outputs": [
    {
     "name": "stdout",
     "output_type": "stream",
     "text": [
      "<class 'pandas.core.frame.DataFrame'>\n",
      "RangeIndex: 15600 entries, 0 to 15599\n",
      "Data columns (total 7 columns):\n",
      " #   Column                             Non-Null Count  Dtype  \n",
      "---  ------                             --------------  -----  \n",
      " 0   Country/Region/World               15600 non-null  object \n",
      " 1   ISO                                15600 non-null  object \n",
      " 2   Sex                                15600 non-null  object \n",
      " 3   Year                               15600 non-null  int64  \n",
      " 4   Mean total cholesterol (mmol/L)    15600 non-null  float64\n",
      " 5   Mean non-HDL cholesterol (mmol/L)  15600 non-null  float64\n",
      " 6   Mean HDL cholesterol (mmol/L)      15600 non-null  float64\n",
      "dtypes: float64(3), int64(1), object(3)\n",
      "memory usage: 853.2+ KB\n"
     ]
    }
   ],
   "source": [
    "cholesterol_data.info()"
   ]
  },
  {
   "cell_type": "code",
   "execution_count": 8,
   "id": "db609491",
   "metadata": {},
   "outputs": [
    {
     "name": "stderr",
     "output_type": "stream",
     "text": [
      "C:\\Users\\user\\AppData\\Local\\Temp\\ipykernel_4520\\3526481172.py:1: FutureWarning: Dropping of nuisance columns in DataFrame reductions (with 'numeric_only=None') is deprecated; in a future version this will raise TypeError.  Select only valid columns before calling the reduction.\n",
      "  cholesterol_data.mean()\n"
     ]
    },
    {
     "data": {
      "text/plain": [
       "Year                                 1999.000000\n",
       "Mean total cholesterol (mmol/L)         4.640884\n",
       "Mean non-HDL cholesterol (mmol/L)       3.409580\n",
       "Mean HDL cholesterol (mmol/L)           1.182812\n",
       "dtype: float64"
      ]
     },
     "execution_count": 8,
     "metadata": {},
     "output_type": "execute_result"
    }
   ],
   "source": [
    "cholesterol_data.mean()"
   ]
  },
  {
   "cell_type": "code",
   "execution_count": 9,
   "id": "7566a42a",
   "metadata": {},
   "outputs": [],
   "source": [
    "cholesterol_data.to_csv (r'.\\Cleaned_Cholesterol.csv', index = False, header=True)"
   ]
  },
  {
   "cell_type": "code",
   "execution_count": 10,
   "id": "3001a033",
   "metadata": {},
   "outputs": [
    {
     "data": {
      "text/plain": [
       "<AxesSubplot:>"
      ]
     },
     "execution_count": 10,
     "metadata": {},
     "output_type": "execute_result"
    },
    {
     "data": {
      "image/png": "[encoded data removed]",
      "text/plain": [
       "<Figure size 432x288 with 1 Axes>"
      ]
     },
     "metadata": {
      "needs_background": "light"
     },
     "output_type": "display_data"
    }
   ],
   "source": [
    "cholesterol_data.boxplot(column='Mean total cholesterol (mmol/L)')"
   ]
  },
  {
   "cell_type": "code",
   "execution_count": 11,
   "id": "d96dfee2",
   "metadata": {},
   "outputs": [
    {
     "data": {
      "text/plain": [
       "Men           AxesSubplot(0.1,0.15;0.363636x0.75)\n",
       "Women    AxesSubplot(0.536364,0.15;0.363636x0.75)\n",
       "dtype: object"
      ]
     },
     "execution_count": 11,
     "metadata": {},
     "output_type": "execute_result"
    },
    {
     "data": {
      "image/png": "[encoded data removed]",
      "text/plain": [
       "<Figure size 432x288 with 2 Axes>"
      ]
     },
     "metadata": {
      "needs_background": "light"
     },
     "output_type": "display_data"
    }
   ],
   "source": [
    "cholesterol_data.groupby('Sex').boxplot(column='Mean total cholesterol (mmol/L)')"
   ]
  }
 ],
 "metadata": {
  "kernelspec": {
   "display_name": "Python 3 (ipykernel)",
   "language": "python",
   "name": "python3"
  },
  "language_info": {
   "codemirror_mode": {
    "name": "ipython",
    "version": 3
   },
   "file_extension": ".py",
   "mimetype": "text/x-python",
   "name": "python",
   "nbconvert_exporter": "python",
   "pygments_lexer": "ipython3",
   "version": "3.9.12"
  }
 },
 "nbformat": 4,
 "nbformat_minor": 5
}
