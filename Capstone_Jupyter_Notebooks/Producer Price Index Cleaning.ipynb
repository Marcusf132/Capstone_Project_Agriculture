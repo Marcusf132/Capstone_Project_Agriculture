{
 "cells": [
  {
   "cell_type": "code",
   "execution_count": 1,
   "id": "c9f89e7d",
   "metadata": {},
   "outputs": [],
   "source": [
    "import pandas as pd"
   ]
  },
  {
   "cell_type": "code",
   "execution_count": 3,
   "id": "6ea04866",
   "metadata": {},
   "outputs": [],
   "source": [
    "price_data=pd.read_csv('Prices_E_All_Data_(Normalized).csv', engine='python',encoding='latin1')"
   ]
  },
  {
   "cell_type": "code",
   "execution_count": 4,
   "id": "2243976e",
   "metadata": {},
   "outputs": [
    {
     "data": {
      "text/html": [
       "<div>\n",
       "<style scoped>\n",
       "    .dataframe tbody tr th:only-of-type {\n",
       "        vertical-align: middle;\n",
       "    }\n",
       "\n",
       "    .dataframe tbody tr th {\n",
       "        vertical-align: top;\n",
       "    }\n",
       "\n",
       "    .dataframe thead th {\n",
       "        text-align: right;\n",
       "    }\n",
       "</style>\n",
       "<table border=\"1\" class=\"dataframe\">\n",
       "  <thead>\n",
       "    <tr style=\"text-align: right;\">\n",
       "      <th></th>\n",
       "      <th>Area Code</th>\n",
       "      <th>Area Code (M49)</th>\n",
       "      <th>Area</th>\n",
       "      <th>Item Code</th>\n",
       "      <th>Item</th>\n",
       "      <th>Element Code</th>\n",
       "      <th>Element</th>\n",
       "      <th>Year Code</th>\n",
       "      <th>Year</th>\n",
       "      <th>Months Code</th>\n",
       "      <th>Months</th>\n",
       "      <th>Unit</th>\n",
       "      <th>Value</th>\n",
       "      <th>Flag</th>\n",
       "    </tr>\n",
       "  </thead>\n",
       "  <tbody>\n",
       "    <tr>\n",
       "      <th>0</th>\n",
       "      <td>2</td>\n",
       "      <td>4</td>\n",
       "      <td>Afghanistan</td>\n",
       "      <td>221</td>\n",
       "      <td>Almonds, in shell</td>\n",
       "      <td>5530</td>\n",
       "      <td>Producer Price (LCU/tonne)</td>\n",
       "      <td>1993</td>\n",
       "      <td>1993</td>\n",
       "      <td>7021</td>\n",
       "      <td>Annual value</td>\n",
       "      <td>LCU</td>\n",
       "      <td>46000.0</td>\n",
       "      <td>NaN</td>\n",
       "    </tr>\n",
       "    <tr>\n",
       "      <th>1</th>\n",
       "      <td>2</td>\n",
       "      <td>4</td>\n",
       "      <td>Afghanistan</td>\n",
       "      <td>221</td>\n",
       "      <td>Almonds, in shell</td>\n",
       "      <td>5530</td>\n",
       "      <td>Producer Price (LCU/tonne)</td>\n",
       "      <td>1994</td>\n",
       "      <td>1994</td>\n",
       "      <td>7021</td>\n",
       "      <td>Annual value</td>\n",
       "      <td>LCU</td>\n",
       "      <td>50000.0</td>\n",
       "      <td>NaN</td>\n",
       "    </tr>\n",
       "    <tr>\n",
       "      <th>2</th>\n",
       "      <td>2</td>\n",
       "      <td>4</td>\n",
       "      <td>Afghanistan</td>\n",
       "      <td>221</td>\n",
       "      <td>Almonds, in shell</td>\n",
       "      <td>5530</td>\n",
       "      <td>Producer Price (LCU/tonne)</td>\n",
       "      <td>1995</td>\n",
       "      <td>1995</td>\n",
       "      <td>7021</td>\n",
       "      <td>Annual value</td>\n",
       "      <td>LCU</td>\n",
       "      <td>62000.0</td>\n",
       "      <td>NaN</td>\n",
       "    </tr>\n",
       "    <tr>\n",
       "      <th>3</th>\n",
       "      <td>2</td>\n",
       "      <td>4</td>\n",
       "      <td>Afghanistan</td>\n",
       "      <td>221</td>\n",
       "      <td>Almonds, in shell</td>\n",
       "      <td>5530</td>\n",
       "      <td>Producer Price (LCU/tonne)</td>\n",
       "      <td>1996</td>\n",
       "      <td>1996</td>\n",
       "      <td>7021</td>\n",
       "      <td>Annual value</td>\n",
       "      <td>LCU</td>\n",
       "      <td>50000.0</td>\n",
       "      <td>NaN</td>\n",
       "    </tr>\n",
       "    <tr>\n",
       "      <th>4</th>\n",
       "      <td>2</td>\n",
       "      <td>4</td>\n",
       "      <td>Afghanistan</td>\n",
       "      <td>221</td>\n",
       "      <td>Almonds, in shell</td>\n",
       "      <td>5530</td>\n",
       "      <td>Producer Price (LCU/tonne)</td>\n",
       "      <td>1997</td>\n",
       "      <td>1997</td>\n",
       "      <td>7021</td>\n",
       "      <td>Annual value</td>\n",
       "      <td>LCU</td>\n",
       "      <td>41000.0</td>\n",
       "      <td>NaN</td>\n",
       "    </tr>\n",
       "  </tbody>\n",
       "</table>\n",
       "</div>"
      ],
      "text/plain": [
       "   Area Code  Area Code (M49)         Area  Item Code               Item  \\\n",
       "0          2                4  Afghanistan        221  Almonds, in shell   \n",
       "1          2                4  Afghanistan        221  Almonds, in shell   \n",
       "2          2                4  Afghanistan        221  Almonds, in shell   \n",
       "3          2                4  Afghanistan        221  Almonds, in shell   \n",
       "4          2                4  Afghanistan        221  Almonds, in shell   \n",
       "\n",
       "   Element Code                     Element  Year Code  Year  Months Code  \\\n",
       "0          5530  Producer Price (LCU/tonne)       1993  1993         7021   \n",
       "1          5530  Producer Price (LCU/tonne)       1994  1994         7021   \n",
       "2          5530  Producer Price (LCU/tonne)       1995  1995         7021   \n",
       "3          5530  Producer Price (LCU/tonne)       1996  1996         7021   \n",
       "4          5530  Producer Price (LCU/tonne)       1997  1997         7021   \n",
       "\n",
       "         Months Unit    Value Flag  \n",
       "0  Annual value  LCU  46000.0  NaN  \n",
       "1  Annual value  LCU  50000.0  NaN  \n",
       "2  Annual value  LCU  62000.0  NaN  \n",
       "3  Annual value  LCU  50000.0  NaN  \n",
       "4  Annual value  LCU  41000.0  NaN  "
      ]
     },
     "execution_count": 4,
     "metadata": {},
     "output_type": "execute_result"
    }
   ],
   "source": [
    "price_data.head(5)"
   ]
  },
  {
   "cell_type": "code",
   "execution_count": 6,
   "id": "49ba78f6",
   "metadata": {
    "scrolled": true
   },
   "outputs": [
    {
     "data": {
      "text/plain": [
       "Area Code               0\n",
       "Area Code (M49)         0\n",
       "Area                    0\n",
       "Item Code               0\n",
       "Item                    0\n",
       "Element Code            0\n",
       "Element                 0\n",
       "Year Code               0\n",
       "Year                    0\n",
       "Months Code             0\n",
       "Months                  0\n",
       "Unit               378820\n",
       "Value                   0\n",
       "Flag               711156\n",
       "dtype: int64"
      ]
     },
     "execution_count": 6,
     "metadata": {},
     "output_type": "execute_result"
    }
   ],
   "source": [
    "price_data.isnull().sum()"
   ]
  },
  {
   "cell_type": "code",
   "execution_count": 14,
   "id": "5923854c",
   "metadata": {},
   "outputs": [],
   "source": [
    "# Filled in NULL values for Unit as they are simply just the producer price index\n",
    "price_data[\"Unit\"].fillna(\"Produce Price Index\", inplace=True)"
   ]
  },
  {
   "cell_type": "code",
   "execution_count": 15,
   "id": "bd15f498",
   "metadata": {
    "scrolled": true
   },
   "outputs": [
    {
     "data": {
      "text/plain": [
       "Area Code               0\n",
       "Area Code (M49)         0\n",
       "Area                    0\n",
       "Item Code               0\n",
       "Item                    0\n",
       "Element Code            0\n",
       "Element                 0\n",
       "Year Code               0\n",
       "Year                    0\n",
       "Months Code             0\n",
       "Months                  0\n",
       "Unit                    0\n",
       "Value                   0\n",
       "Flag               711156\n",
       "dtype: int64"
      ]
     },
     "execution_count": 15,
     "metadata": {},
     "output_type": "execute_result"
    }
   ],
   "source": [
    "price_data.isnull().sum()"
   ]
  },
  {
   "cell_type": "code",
   "execution_count": 16,
   "id": "c85bfa2f",
   "metadata": {},
   "outputs": [],
   "source": [
    "price_data.drop(columns=['Year Code', 'Flag'], inplace=True)"
   ]
  },
  {
   "cell_type": "code",
   "execution_count": 17,
   "id": "2c203d60",
   "metadata": {},
   "outputs": [
    {
     "data": {
      "text/html": [
       "<div>\n",
       "<style scoped>\n",
       "    .dataframe tbody tr th:only-of-type {\n",
       "        vertical-align: middle;\n",
       "    }\n",
       "\n",
       "    .dataframe tbody tr th {\n",
       "        vertical-align: top;\n",
       "    }\n",
       "\n",
       "    .dataframe thead th {\n",
       "        text-align: right;\n",
       "    }\n",
       "</style>\n",
       "<table border=\"1\" class=\"dataframe\">\n",
       "  <thead>\n",
       "    <tr style=\"text-align: right;\">\n",
       "      <th></th>\n",
       "      <th>Area Code</th>\n",
       "      <th>Area Code (M49)</th>\n",
       "      <th>Area</th>\n",
       "      <th>Item Code</th>\n",
       "      <th>Item</th>\n",
       "      <th>Element Code</th>\n",
       "      <th>Element</th>\n",
       "      <th>Year</th>\n",
       "      <th>Months Code</th>\n",
       "      <th>Months</th>\n",
       "      <th>Unit</th>\n",
       "      <th>Value</th>\n",
       "    </tr>\n",
       "  </thead>\n",
       "  <tbody>\n",
       "    <tr>\n",
       "      <th>0</th>\n",
       "      <td>2</td>\n",
       "      <td>4</td>\n",
       "      <td>Afghanistan</td>\n",
       "      <td>221</td>\n",
       "      <td>Almonds, in shell</td>\n",
       "      <td>5530</td>\n",
       "      <td>Producer Price (LCU/tonne)</td>\n",
       "      <td>1993</td>\n",
       "      <td>7021</td>\n",
       "      <td>Annual value</td>\n",
       "      <td>LCU</td>\n",
       "      <td>46000.0</td>\n",
       "    </tr>\n",
       "    <tr>\n",
       "      <th>1</th>\n",
       "      <td>2</td>\n",
       "      <td>4</td>\n",
       "      <td>Afghanistan</td>\n",
       "      <td>221</td>\n",
       "      <td>Almonds, in shell</td>\n",
       "      <td>5530</td>\n",
       "      <td>Producer Price (LCU/tonne)</td>\n",
       "      <td>1994</td>\n",
       "      <td>7021</td>\n",
       "      <td>Annual value</td>\n",
       "      <td>LCU</td>\n",
       "      <td>50000.0</td>\n",
       "    </tr>\n",
       "    <tr>\n",
       "      <th>2</th>\n",
       "      <td>2</td>\n",
       "      <td>4</td>\n",
       "      <td>Afghanistan</td>\n",
       "      <td>221</td>\n",
       "      <td>Almonds, in shell</td>\n",
       "      <td>5530</td>\n",
       "      <td>Producer Price (LCU/tonne)</td>\n",
       "      <td>1995</td>\n",
       "      <td>7021</td>\n",
       "      <td>Annual value</td>\n",
       "      <td>LCU</td>\n",
       "      <td>62000.0</td>\n",
       "    </tr>\n",
       "    <tr>\n",
       "      <th>3</th>\n",
       "      <td>2</td>\n",
       "      <td>4</td>\n",
       "      <td>Afghanistan</td>\n",
       "      <td>221</td>\n",
       "      <td>Almonds, in shell</td>\n",
       "      <td>5530</td>\n",
       "      <td>Producer Price (LCU/tonne)</td>\n",
       "      <td>1996</td>\n",
       "      <td>7021</td>\n",
       "      <td>Annual value</td>\n",
       "      <td>LCU</td>\n",
       "      <td>50000.0</td>\n",
       "    </tr>\n",
       "    <tr>\n",
       "      <th>4</th>\n",
       "      <td>2</td>\n",
       "      <td>4</td>\n",
       "      <td>Afghanistan</td>\n",
       "      <td>221</td>\n",
       "      <td>Almonds, in shell</td>\n",
       "      <td>5530</td>\n",
       "      <td>Producer Price (LCU/tonne)</td>\n",
       "      <td>1997</td>\n",
       "      <td>7021</td>\n",
       "      <td>Annual value</td>\n",
       "      <td>LCU</td>\n",
       "      <td>41000.0</td>\n",
       "    </tr>\n",
       "  </tbody>\n",
       "</table>\n",
       "</div>"
      ],
      "text/plain": [
       "   Area Code  Area Code (M49)         Area  Item Code               Item  \\\n",
       "0          2                4  Afghanistan        221  Almonds, in shell   \n",
       "1          2                4  Afghanistan        221  Almonds, in shell   \n",
       "2          2                4  Afghanistan        221  Almonds, in shell   \n",
       "3          2                4  Afghanistan        221  Almonds, in shell   \n",
       "4          2                4  Afghanistan        221  Almonds, in shell   \n",
       "\n",
       "   Element Code                     Element  Year  Months Code        Months  \\\n",
       "0          5530  Producer Price (LCU/tonne)  1993         7021  Annual value   \n",
       "1          5530  Producer Price (LCU/tonne)  1994         7021  Annual value   \n",
       "2          5530  Producer Price (LCU/tonne)  1995         7021  Annual value   \n",
       "3          5530  Producer Price (LCU/tonne)  1996         7021  Annual value   \n",
       "4          5530  Producer Price (LCU/tonne)  1997         7021  Annual value   \n",
       "\n",
       "  Unit    Value  \n",
       "0  LCU  46000.0  \n",
       "1  LCU  50000.0  \n",
       "2  LCU  62000.0  \n",
       "3  LCU  50000.0  \n",
       "4  LCU  41000.0  "
      ]
     },
     "execution_count": 17,
     "metadata": {},
     "output_type": "execute_result"
    }
   ],
   "source": [
    "price_data.head(5)"
   ]
  },
  {
   "cell_type": "code",
   "execution_count": 18,
   "id": "05ce2831",
   "metadata": {},
   "outputs": [
    {
     "data": {
      "text/plain": [
       "Area Code          0\n",
       "Area Code (M49)    0\n",
       "Area               0\n",
       "Item Code          0\n",
       "Item               0\n",
       "Element Code       0\n",
       "Element            0\n",
       "Year               0\n",
       "Months Code        0\n",
       "Months             0\n",
       "Unit               0\n",
       "Value              0\n",
       "dtype: int64"
      ]
     },
     "execution_count": 18,
     "metadata": {},
     "output_type": "execute_result"
    }
   ],
   "source": [
    "price_data.isnull().sum()"
   ]
  },
  {
   "cell_type": "code",
   "execution_count": 20,
   "id": "f2ffea1f",
   "metadata": {},
   "outputs": [],
   "source": [
    "price_data.to_csv ('Procuder_Price_Cleaned.csv', index = False, header=True)"
   ]
  },
  {
   "cell_type": "code",
   "execution_count": null,
   "id": "af078257",
   "metadata": {},
   "outputs": [],
   "source": []
  }
 ],
 "metadata": {
  "kernelspec": {
   "display_name": "Python 3 (ipykernel)",
   "language": "python",
   "name": "python3"
  },
  "language_info": {
   "codemirror_mode": {
    "name": "ipython",
    "version": 3
   },
   "file_extension": ".py",
   "mimetype": "text/x-python",
   "name": "python",
   "nbconvert_exporter": "python",
   "pygments_lexer": "ipython3",
   "version": "3.9.12"
  }
 },
 "nbformat": 4,
 "nbformat_minor": 5
}
