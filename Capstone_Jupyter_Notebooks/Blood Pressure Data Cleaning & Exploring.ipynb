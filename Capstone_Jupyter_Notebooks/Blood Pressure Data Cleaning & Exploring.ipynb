{
 "cells": [
  {
   "cell_type": "code",
   "execution_count": 1,
   "id": "9ee269a6",
   "metadata": {},
   "outputs": [],
   "source": [
    "import pandas as pd"
   ]
  },
  {
   "cell_type": "code",
   "execution_count": 3,
   "id": "d840ee51",
   "metadata": {},
   "outputs": [],
   "source": [
    "blood_pressure=pd.read_csv('Blood_Pressure.csv')"
   ]
  },
  {
   "cell_type": "code",
   "execution_count": 4,
   "id": "6fc11e81",
   "metadata": {},
   "outputs": [
    {
     "data": {
      "text/html": [
       "<div>\n",
       "<style scoped>\n",
       "    .dataframe tbody tr th:only-of-type {\n",
       "        vertical-align: middle;\n",
       "    }\n",
       "\n",
       "    .dataframe tbody tr th {\n",
       "        vertical-align: top;\n",
       "    }\n",
       "\n",
       "    .dataframe thead th {\n",
       "        text-align: right;\n",
       "    }\n",
       "</style>\n",
       "<table border=\"1\" class=\"dataframe\">\n",
       "  <thead>\n",
       "    <tr style=\"text-align: right;\">\n",
       "      <th></th>\n",
       "      <th>Country/Region/World</th>\n",
       "      <th>ISO</th>\n",
       "      <th>Sex</th>\n",
       "      <th>Year</th>\n",
       "      <th>Mean systolic blood pressure (mmHg)</th>\n",
       "      <th>Mean systolic blood pressure lower 95% uncertainty interval (mmHg)</th>\n",
       "      <th>Mean systolic blood pressure upper 95% uncertainty interval (mmHg)</th>\n",
       "      <th>Mean diastolic blood pressure (mmHg)</th>\n",
       "      <th>Mean diastolic blood pressure lower 95% uncertainty interval (mmHg)</th>\n",
       "      <th>Mean diastolic blood pressure upper 95% uncertainty interval (mmHg)</th>\n",
       "      <th>Prevalence of raised blood pressure</th>\n",
       "      <th>Prevalence of raised blood pressure lower 95% uncertainty interval</th>\n",
       "      <th>Prevalence of raised blood pressure upper 95% uncertainty interval</th>\n",
       "    </tr>\n",
       "  </thead>\n",
       "  <tbody>\n",
       "    <tr>\n",
       "      <th>0</th>\n",
       "      <td>Afghanistan</td>\n",
       "      <td>AFG</td>\n",
       "      <td>Men</td>\n",
       "      <td>1975</td>\n",
       "      <td>121.078635</td>\n",
       "      <td>110.560019</td>\n",
       "      <td>131.280611</td>\n",
       "      <td>76.217903</td>\n",
       "      <td>69.432058</td>\n",
       "      <td>82.910254</td>\n",
       "      <td>0.251041</td>\n",
       "      <td>0.139465</td>\n",
       "      <td>0.389490</td>\n",
       "    </tr>\n",
       "    <tr>\n",
       "      <th>1</th>\n",
       "      <td>Afghanistan</td>\n",
       "      <td>AFG</td>\n",
       "      <td>Men</td>\n",
       "      <td>1976</td>\n",
       "      <td>121.213135</td>\n",
       "      <td>111.237480</td>\n",
       "      <td>130.972393</td>\n",
       "      <td>76.302381</td>\n",
       "      <td>69.841522</td>\n",
       "      <td>82.712827</td>\n",
       "      <td>0.252482</td>\n",
       "      <td>0.145232</td>\n",
       "      <td>0.385497</td>\n",
       "    </tr>\n",
       "    <tr>\n",
       "      <th>2</th>\n",
       "      <td>Afghanistan</td>\n",
       "      <td>AFG</td>\n",
       "      <td>Men</td>\n",
       "      <td>1977</td>\n",
       "      <td>121.352221</td>\n",
       "      <td>111.913929</td>\n",
       "      <td>130.796611</td>\n",
       "      <td>76.389730</td>\n",
       "      <td>70.243390</td>\n",
       "      <td>82.518096</td>\n",
       "      <td>0.254044</td>\n",
       "      <td>0.150297</td>\n",
       "      <td>0.380740</td>\n",
       "    </tr>\n",
       "    <tr>\n",
       "      <th>3</th>\n",
       "      <td>Afghanistan</td>\n",
       "      <td>AFG</td>\n",
       "      <td>Men</td>\n",
       "      <td>1978</td>\n",
       "      <td>121.493430</td>\n",
       "      <td>112.391051</td>\n",
       "      <td>130.595529</td>\n",
       "      <td>76.479429</td>\n",
       "      <td>70.680791</td>\n",
       "      <td>82.339212</td>\n",
       "      <td>0.255709</td>\n",
       "      <td>0.155271</td>\n",
       "      <td>0.376442</td>\n",
       "    </tr>\n",
       "    <tr>\n",
       "      <th>4</th>\n",
       "      <td>Afghanistan</td>\n",
       "      <td>AFG</td>\n",
       "      <td>Men</td>\n",
       "      <td>1979</td>\n",
       "      <td>121.636601</td>\n",
       "      <td>112.922056</td>\n",
       "      <td>130.367636</td>\n",
       "      <td>76.570570</td>\n",
       "      <td>70.991105</td>\n",
       "      <td>82.190582</td>\n",
       "      <td>0.257459</td>\n",
       "      <td>0.160139</td>\n",
       "      <td>0.372394</td>\n",
       "    </tr>\n",
       "  </tbody>\n",
       "</table>\n",
       "</div>"
      ],
      "text/plain": [
       "  Country/Region/World  ISO  Sex  Year  Mean systolic blood pressure (mmHg)  \\\n",
       "0          Afghanistan  AFG  Men  1975                           121.078635   \n",
       "1          Afghanistan  AFG  Men  1976                           121.213135   \n",
       "2          Afghanistan  AFG  Men  1977                           121.352221   \n",
       "3          Afghanistan  AFG  Men  1978                           121.493430   \n",
       "4          Afghanistan  AFG  Men  1979                           121.636601   \n",
       "\n",
       "   Mean systolic blood pressure lower 95% uncertainty interval (mmHg)  \\\n",
       "0                                         110.560019                    \n",
       "1                                         111.237480                    \n",
       "2                                         111.913929                    \n",
       "3                                         112.391051                    \n",
       "4                                         112.922056                    \n",
       "\n",
       "   Mean systolic blood pressure upper 95% uncertainty interval (mmHg)  \\\n",
       "0                                         131.280611                    \n",
       "1                                         130.972393                    \n",
       "2                                         130.796611                    \n",
       "3                                         130.595529                    \n",
       "4                                         130.367636                    \n",
       "\n",
       "   Mean diastolic blood pressure (mmHg)  \\\n",
       "0                             76.217903   \n",
       "1                             76.302381   \n",
       "2                             76.389730   \n",
       "3                             76.479429   \n",
       "4                             76.570570   \n",
       "\n",
       "   Mean diastolic blood pressure lower 95% uncertainty interval (mmHg)  \\\n",
       "0                                          69.432058                     \n",
       "1                                          69.841522                     \n",
       "2                                          70.243390                     \n",
       "3                                          70.680791                     \n",
       "4                                          70.991105                     \n",
       "\n",
       "   Mean diastolic blood pressure upper 95% uncertainty interval (mmHg)  \\\n",
       "0                                          82.910254                     \n",
       "1                                          82.712827                     \n",
       "2                                          82.518096                     \n",
       "3                                          82.339212                     \n",
       "4                                          82.190582                     \n",
       "\n",
       "   Prevalence of raised blood pressure  \\\n",
       "0                             0.251041   \n",
       "1                             0.252482   \n",
       "2                             0.254044   \n",
       "3                             0.255709   \n",
       "4                             0.257459   \n",
       "\n",
       "   Prevalence of raised blood pressure lower 95% uncertainty interval  \\\n",
       "0                                           0.139465                    \n",
       "1                                           0.145232                    \n",
       "2                                           0.150297                    \n",
       "3                                           0.155271                    \n",
       "4                                           0.160139                    \n",
       "\n",
       "   Prevalence of raised blood pressure upper 95% uncertainty interval  \n",
       "0                                           0.389490                   \n",
       "1                                           0.385497                   \n",
       "2                                           0.380740                   \n",
       "3                                           0.376442                   \n",
       "4                                           0.372394                   "
      ]
     },
     "execution_count": 4,
     "metadata": {},
     "output_type": "execute_result"
    }
   ],
   "source": [
    "blood_pressure.head(5)"
   ]
  },
  {
   "cell_type": "code",
   "execution_count": 5,
   "id": "21a914f4",
   "metadata": {},
   "outputs": [
    {
     "data": {
      "text/plain": [
       "(16400, 13)"
      ]
     },
     "execution_count": 5,
     "metadata": {},
     "output_type": "execute_result"
    }
   ],
   "source": [
    "blood_pressure.shape"
   ]
  },
  {
   "cell_type": "code",
   "execution_count": 6,
   "id": "53bea4a8",
   "metadata": {},
   "outputs": [],
   "source": [
    "# Dropping columns\n",
    "blood_pressure.drop(columns=['Mean systolic blood pressure lower 95% uncertainty interval (mmHg)', 'Mean systolic blood pressure upper 95% uncertainty interval (mmHg)','Mean diastolic blood pressure lower 95% uncertainty interval (mmHg)','Mean diastolic blood pressure upper 95% uncertainty interval (mmHg)'], inplace=True)"
   ]
  },
  {
   "cell_type": "code",
   "execution_count": 7,
   "id": "9f42c9b1",
   "metadata": {},
   "outputs": [
    {
     "data": {
      "text/html": [
       "<div>\n",
       "<style scoped>\n",
       "    .dataframe tbody tr th:only-of-type {\n",
       "        vertical-align: middle;\n",
       "    }\n",
       "\n",
       "    .dataframe tbody tr th {\n",
       "        vertical-align: top;\n",
       "    }\n",
       "\n",
       "    .dataframe thead th {\n",
       "        text-align: right;\n",
       "    }\n",
       "</style>\n",
       "<table border=\"1\" class=\"dataframe\">\n",
       "  <thead>\n",
       "    <tr style=\"text-align: right;\">\n",
       "      <th></th>\n",
       "      <th>Country/Region/World</th>\n",
       "      <th>ISO</th>\n",
       "      <th>Sex</th>\n",
       "      <th>Year</th>\n",
       "      <th>Mean systolic blood pressure (mmHg)</th>\n",
       "      <th>Mean diastolic blood pressure (mmHg)</th>\n",
       "      <th>Prevalence of raised blood pressure</th>\n",
       "      <th>Prevalence of raised blood pressure lower 95% uncertainty interval</th>\n",
       "      <th>Prevalence of raised blood pressure upper 95% uncertainty interval</th>\n",
       "    </tr>\n",
       "  </thead>\n",
       "  <tbody>\n",
       "    <tr>\n",
       "      <th>0</th>\n",
       "      <td>Afghanistan</td>\n",
       "      <td>AFG</td>\n",
       "      <td>Men</td>\n",
       "      <td>1975</td>\n",
       "      <td>121.078635</td>\n",
       "      <td>76.217903</td>\n",
       "      <td>0.251041</td>\n",
       "      <td>0.139465</td>\n",
       "      <td>0.389490</td>\n",
       "    </tr>\n",
       "    <tr>\n",
       "      <th>1</th>\n",
       "      <td>Afghanistan</td>\n",
       "      <td>AFG</td>\n",
       "      <td>Men</td>\n",
       "      <td>1976</td>\n",
       "      <td>121.213135</td>\n",
       "      <td>76.302381</td>\n",
       "      <td>0.252482</td>\n",
       "      <td>0.145232</td>\n",
       "      <td>0.385497</td>\n",
       "    </tr>\n",
       "    <tr>\n",
       "      <th>2</th>\n",
       "      <td>Afghanistan</td>\n",
       "      <td>AFG</td>\n",
       "      <td>Men</td>\n",
       "      <td>1977</td>\n",
       "      <td>121.352221</td>\n",
       "      <td>76.389730</td>\n",
       "      <td>0.254044</td>\n",
       "      <td>0.150297</td>\n",
       "      <td>0.380740</td>\n",
       "    </tr>\n",
       "    <tr>\n",
       "      <th>3</th>\n",
       "      <td>Afghanistan</td>\n",
       "      <td>AFG</td>\n",
       "      <td>Men</td>\n",
       "      <td>1978</td>\n",
       "      <td>121.493430</td>\n",
       "      <td>76.479429</td>\n",
       "      <td>0.255709</td>\n",
       "      <td>0.155271</td>\n",
       "      <td>0.376442</td>\n",
       "    </tr>\n",
       "    <tr>\n",
       "      <th>4</th>\n",
       "      <td>Afghanistan</td>\n",
       "      <td>AFG</td>\n",
       "      <td>Men</td>\n",
       "      <td>1979</td>\n",
       "      <td>121.636601</td>\n",
       "      <td>76.570570</td>\n",
       "      <td>0.257459</td>\n",
       "      <td>0.160139</td>\n",
       "      <td>0.372394</td>\n",
       "    </tr>\n",
       "  </tbody>\n",
       "</table>\n",
       "</div>"
      ],
      "text/plain": [
       "  Country/Region/World  ISO  Sex  Year  Mean systolic blood pressure (mmHg)  \\\n",
       "0          Afghanistan  AFG  Men  1975                           121.078635   \n",
       "1          Afghanistan  AFG  Men  1976                           121.213135   \n",
       "2          Afghanistan  AFG  Men  1977                           121.352221   \n",
       "3          Afghanistan  AFG  Men  1978                           121.493430   \n",
       "4          Afghanistan  AFG  Men  1979                           121.636601   \n",
       "\n",
       "   Mean diastolic blood pressure (mmHg)  Prevalence of raised blood pressure  \\\n",
       "0                             76.217903                             0.251041   \n",
       "1                             76.302381                             0.252482   \n",
       "2                             76.389730                             0.254044   \n",
       "3                             76.479429                             0.255709   \n",
       "4                             76.570570                             0.257459   \n",
       "\n",
       "   Prevalence of raised blood pressure lower 95% uncertainty interval  \\\n",
       "0                                           0.139465                    \n",
       "1                                           0.145232                    \n",
       "2                                           0.150297                    \n",
       "3                                           0.155271                    \n",
       "4                                           0.160139                    \n",
       "\n",
       "   Prevalence of raised blood pressure upper 95% uncertainty interval  \n",
       "0                                           0.389490                   \n",
       "1                                           0.385497                   \n",
       "2                                           0.380740                   \n",
       "3                                           0.376442                   \n",
       "4                                           0.372394                   "
      ]
     },
     "execution_count": 7,
     "metadata": {},
     "output_type": "execute_result"
    }
   ],
   "source": [
    "blood_pressure.head(5)"
   ]
  },
  {
   "cell_type": "code",
   "execution_count": 8,
   "id": "fee10ee2",
   "metadata": {},
   "outputs": [],
   "source": [
    "blood_pressure.drop(columns=['Prevalence of raised blood pressure lower 95% uncertainty interval','Prevalence of raised blood pressure upper 95% uncertainty interval' ], inplace=True)"
   ]
  },
  {
   "cell_type": "code",
   "execution_count": 9,
   "id": "599fb79c",
   "metadata": {},
   "outputs": [
    {
     "data": {
      "text/html": [
       "<div>\n",
       "<style scoped>\n",
       "    .dataframe tbody tr th:only-of-type {\n",
       "        vertical-align: middle;\n",
       "    }\n",
       "\n",
       "    .dataframe tbody tr th {\n",
       "        vertical-align: top;\n",
       "    }\n",
       "\n",
       "    .dataframe thead th {\n",
       "        text-align: right;\n",
       "    }\n",
       "</style>\n",
       "<table border=\"1\" class=\"dataframe\">\n",
       "  <thead>\n",
       "    <tr style=\"text-align: right;\">\n",
       "      <th></th>\n",
       "      <th>Country/Region/World</th>\n",
       "      <th>ISO</th>\n",
       "      <th>Sex</th>\n",
       "      <th>Year</th>\n",
       "      <th>Mean systolic blood pressure (mmHg)</th>\n",
       "      <th>Mean diastolic blood pressure (mmHg)</th>\n",
       "      <th>Prevalence of raised blood pressure</th>\n",
       "    </tr>\n",
       "  </thead>\n",
       "  <tbody>\n",
       "    <tr>\n",
       "      <th>0</th>\n",
       "      <td>Afghanistan</td>\n",
       "      <td>AFG</td>\n",
       "      <td>Men</td>\n",
       "      <td>1975</td>\n",
       "      <td>121.078635</td>\n",
       "      <td>76.217903</td>\n",
       "      <td>0.251041</td>\n",
       "    </tr>\n",
       "    <tr>\n",
       "      <th>1</th>\n",
       "      <td>Afghanistan</td>\n",
       "      <td>AFG</td>\n",
       "      <td>Men</td>\n",
       "      <td>1976</td>\n",
       "      <td>121.213135</td>\n",
       "      <td>76.302381</td>\n",
       "      <td>0.252482</td>\n",
       "    </tr>\n",
       "    <tr>\n",
       "      <th>2</th>\n",
       "      <td>Afghanistan</td>\n",
       "      <td>AFG</td>\n",
       "      <td>Men</td>\n",
       "      <td>1977</td>\n",
       "      <td>121.352221</td>\n",
       "      <td>76.389730</td>\n",
       "      <td>0.254044</td>\n",
       "    </tr>\n",
       "    <tr>\n",
       "      <th>3</th>\n",
       "      <td>Afghanistan</td>\n",
       "      <td>AFG</td>\n",
       "      <td>Men</td>\n",
       "      <td>1978</td>\n",
       "      <td>121.493430</td>\n",
       "      <td>76.479429</td>\n",
       "      <td>0.255709</td>\n",
       "    </tr>\n",
       "    <tr>\n",
       "      <th>4</th>\n",
       "      <td>Afghanistan</td>\n",
       "      <td>AFG</td>\n",
       "      <td>Men</td>\n",
       "      <td>1979</td>\n",
       "      <td>121.636601</td>\n",
       "      <td>76.570570</td>\n",
       "      <td>0.257459</td>\n",
       "    </tr>\n",
       "  </tbody>\n",
       "</table>\n",
       "</div>"
      ],
      "text/plain": [
       "  Country/Region/World  ISO  Sex  Year  Mean systolic blood pressure (mmHg)  \\\n",
       "0          Afghanistan  AFG  Men  1975                           121.078635   \n",
       "1          Afghanistan  AFG  Men  1976                           121.213135   \n",
       "2          Afghanistan  AFG  Men  1977                           121.352221   \n",
       "3          Afghanistan  AFG  Men  1978                           121.493430   \n",
       "4          Afghanistan  AFG  Men  1979                           121.636601   \n",
       "\n",
       "   Mean diastolic blood pressure (mmHg)  Prevalence of raised blood pressure  \n",
       "0                             76.217903                             0.251041  \n",
       "1                             76.302381                             0.252482  \n",
       "2                             76.389730                             0.254044  \n",
       "3                             76.479429                             0.255709  \n",
       "4                             76.570570                             0.257459  "
      ]
     },
     "execution_count": 9,
     "metadata": {},
     "output_type": "execute_result"
    }
   ],
   "source": [
    "blood_pressure.head(5)"
   ]
  },
  {
   "cell_type": "code",
   "execution_count": 10,
   "id": "c078fd34",
   "metadata": {},
   "outputs": [
    {
     "data": {
      "text/plain": [
       "Country/Region/World                    0\n",
       "ISO                                     0\n",
       "Sex                                     0\n",
       "Year                                    0\n",
       "Mean systolic blood pressure (mmHg)     0\n",
       "Mean diastolic blood pressure (mmHg)    0\n",
       "Prevalence of raised blood pressure     0\n",
       "dtype: int64"
      ]
     },
     "execution_count": 10,
     "metadata": {},
     "output_type": "execute_result"
    }
   ],
   "source": [
    "blood_pressure.isnull().sum()"
   ]
  },
  {
   "cell_type": "code",
   "execution_count": 11,
   "id": "1d0edbbb",
   "metadata": {},
   "outputs": [],
   "source": [
    "blood_pressure.to_csv (r'.\\Cleaned_Blood_Pressure.csv', index = False, header=True)"
   ]
  },
  {
   "cell_type": "code",
   "execution_count": 13,
   "id": "e875eabc",
   "metadata": {},
   "outputs": [
    {
     "data": {
      "text/plain": [
       "<AxesSubplot:>"
      ]
     },
     "execution_count": 13,
     "metadata": {},
     "output_type": "execute_result"
    },
    {
     "data": {
      "image/png": "[encoded data removed]",
      "text/plain": [
       "<Figure size 432x288 with 1 Axes>"
      ]
     },
     "metadata": {
      "needs_background": "light"
     },
     "output_type": "display_data"
    }
   ],
   "source": [
    "blood_pressure.boxplot(column='Mean systolic blood pressure (mmHg)')"
   ]
  },
  {
   "cell_type": "code",
   "execution_count": 14,
   "id": "f224e9ef",
   "metadata": {},
   "outputs": [
    {
     "data": {
      "text/plain": [
       "Men           AxesSubplot(0.1,0.15;0.363636x0.75)\n",
       "Women    AxesSubplot(0.536364,0.15;0.363636x0.75)\n",
       "dtype: object"
      ]
     },
     "execution_count": 14,
     "metadata": {},
     "output_type": "execute_result"
    },
    {
     "data": {
      "image/png": "[encoded data removed]",
      "text/plain": [
       "<Figure size 432x288 with 2 Axes>"
      ]
     },
     "metadata": {
      "needs_background": "light"
     },
     "output_type": "display_data"
    }
   ],
   "source": [
    "blood_pressure.groupby('Sex').boxplot(column='Mean systolic blood pressure (mmHg)')"
   ]
  },
  {
   "cell_type": "code",
   "execution_count": 15,
   "id": "4352e485",
   "metadata": {},
   "outputs": [
    {
     "data": {
      "text/plain": [
       "<AxesSubplot:>"
      ]
     },
     "execution_count": 15,
     "metadata": {},
     "output_type": "execute_result"
    },
    {
     "data": {
      "image/png": "[encoded data removed]",
      "text/plain": [
       "<Figure size 432x288 with 1 Axes>"
      ]
     },
     "metadata": {
      "needs_background": "light"
     },
     "output_type": "display_data"
    }
   ],
   "source": [
    "blood_pressure.boxplot(column='Mean diastolic blood pressure (mmHg)')"
   ]
  },
  {
   "cell_type": "code",
   "execution_count": 16,
   "id": "04305127",
   "metadata": {},
   "outputs": [
    {
     "data": {
      "text/plain": [
       "Men           AxesSubplot(0.1,0.15;0.363636x0.75)\n",
       "Women    AxesSubplot(0.536364,0.15;0.363636x0.75)\n",
       "dtype: object"
      ]
     },
     "execution_count": 16,
     "metadata": {},
     "output_type": "execute_result"
    },
    {
     "data": {
      "image/png": "[encoded data removed]",
      "text/plain": [
       "<Figure size 432x288 with 2 Axes>"
      ]
     },
     "metadata": {
      "needs_background": "light"
     },
     "output_type": "display_data"
    }
   ],
   "source": [
    "blood_pressure.groupby('Sex').boxplot(column='Mean diastolic blood pressure (mmHg)')"
   ]
  },
  {
   "cell_type": "code",
   "execution_count": 17,
   "id": "723c52e4",
   "metadata": {},
   "outputs": [
    {
     "data": {
      "text/plain": [
       "<AxesSubplot:>"
      ]
     },
     "execution_count": 17,
     "metadata": {},
     "output_type": "execute_result"
    },
    {
     "data": {
      "image/png": "[encoded data removed]",
      "text/plain": [
       "<Figure size 432x288 with 1 Axes>"
      ]
     },
     "metadata": {
      "needs_background": "light"
     },
     "output_type": "display_data"
    }
   ],
   "source": [
    "blood_pressure.boxplot(column='Prevalence of raised blood pressure')"
   ]
  },
  {
   "cell_type": "code",
   "execution_count": 18,
   "id": "dd073a9c",
   "metadata": {},
   "outputs": [
    {
     "data": {
      "text/plain": [
       "Men           AxesSubplot(0.1,0.15;0.363636x0.75)\n",
       "Women    AxesSubplot(0.536364,0.15;0.363636x0.75)\n",
       "dtype: object"
      ]
     },
     "execution_count": 18,
     "metadata": {},
     "output_type": "execute_result"
    },
    {
     "data": {
      "image/png": "[encoded data removed]",
      "text/plain": [
       "<Figure size 432x288 with 2 Axes>"
      ]
     },
     "metadata": {
      "needs_background": "light"
     },
     "output_type": "display_data"
    }
   ],
   "source": [
    "blood_pressure.groupby('Sex').boxplot(column='Prevalence of raised blood pressure')"
   ]
  }
 ],
 "metadata": {
  "kernelspec": {
   "display_name": "Python 3 (ipykernel)",
   "language": "python",
   "name": "python3"
  },
  "language_info": {
   "codemirror_mode": {
    "name": "ipython",
    "version": 3
   },
   "file_extension": ".py",
   "mimetype": "text/x-python",
   "name": "python",
   "nbconvert_exporter": "python",
   "pygments_lexer": "ipython3",
   "version": "3.9.12"
  }
 },
 "nbformat": 4,
 "nbformat_minor": 5
}
