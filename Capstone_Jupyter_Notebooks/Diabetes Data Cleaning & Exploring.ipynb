{
 "cells": [
  {
   "cell_type": "code",
   "execution_count": 1,
   "id": "d4372b8c",
   "metadata": {},
   "outputs": [],
   "source": [
    "import pandas as pd"
   ]
  },
  {
   "cell_type": "code",
   "execution_count": 3,
   "id": "778a57d8",
   "metadata": {},
   "outputs": [],
   "source": [
    "diabetes_data =pd.read_csv('Diabetes.csv')"
   ]
  },
  {
   "cell_type": "code",
   "execution_count": 4,
   "id": "b64abae0",
   "metadata": {},
   "outputs": [
    {
     "data": {
      "text/html": [
       "<div>\n",
       "<style scoped>\n",
       "    .dataframe tbody tr th:only-of-type {\n",
       "        vertical-align: middle;\n",
       "    }\n",
       "\n",
       "    .dataframe tbody tr th {\n",
       "        vertical-align: top;\n",
       "    }\n",
       "\n",
       "    .dataframe thead th {\n",
       "        text-align: right;\n",
       "    }\n",
       "</style>\n",
       "<table border=\"1\" class=\"dataframe\">\n",
       "  <thead>\n",
       "    <tr style=\"text-align: right;\">\n",
       "      <th></th>\n",
       "      <th>Country/Region/World</th>\n",
       "      <th>ISO</th>\n",
       "      <th>Sex</th>\n",
       "      <th>Year</th>\n",
       "      <th>Age-standardised diabetes prevalence</th>\n",
       "      <th>Lower 95% uncertainty interval</th>\n",
       "      <th>Upper 95% uncertainty interval</th>\n",
       "    </tr>\n",
       "  </thead>\n",
       "  <tbody>\n",
       "    <tr>\n",
       "      <th>0</th>\n",
       "      <td>Afghanistan</td>\n",
       "      <td>AFG</td>\n",
       "      <td>Men</td>\n",
       "      <td>1980</td>\n",
       "      <td>0.044712</td>\n",
       "      <td>0.015339</td>\n",
       "      <td>0.094918</td>\n",
       "    </tr>\n",
       "    <tr>\n",
       "      <th>1</th>\n",
       "      <td>Afghanistan</td>\n",
       "      <td>AFG</td>\n",
       "      <td>Men</td>\n",
       "      <td>1981</td>\n",
       "      <td>0.046114</td>\n",
       "      <td>0.016883</td>\n",
       "      <td>0.093777</td>\n",
       "    </tr>\n",
       "    <tr>\n",
       "      <th>2</th>\n",
       "      <td>Afghanistan</td>\n",
       "      <td>AFG</td>\n",
       "      <td>Men</td>\n",
       "      <td>1982</td>\n",
       "      <td>0.047601</td>\n",
       "      <td>0.018745</td>\n",
       "      <td>0.094018</td>\n",
       "    </tr>\n",
       "    <tr>\n",
       "      <th>3</th>\n",
       "      <td>Afghanistan</td>\n",
       "      <td>AFG</td>\n",
       "      <td>Men</td>\n",
       "      <td>1983</td>\n",
       "      <td>0.049173</td>\n",
       "      <td>0.020375</td>\n",
       "      <td>0.093950</td>\n",
       "    </tr>\n",
       "    <tr>\n",
       "      <th>4</th>\n",
       "      <td>Afghanistan</td>\n",
       "      <td>AFG</td>\n",
       "      <td>Men</td>\n",
       "      <td>1984</td>\n",
       "      <td>0.050834</td>\n",
       "      <td>0.022269</td>\n",
       "      <td>0.093679</td>\n",
       "    </tr>\n",
       "  </tbody>\n",
       "</table>\n",
       "</div>"
      ],
      "text/plain": [
       "  Country/Region/World  ISO  Sex  Year  Age-standardised diabetes prevalence  \\\n",
       "0          Afghanistan  AFG  Men  1980                              0.044712   \n",
       "1          Afghanistan  AFG  Men  1981                              0.046114   \n",
       "2          Afghanistan  AFG  Men  1982                              0.047601   \n",
       "3          Afghanistan  AFG  Men  1983                              0.049173   \n",
       "4          Afghanistan  AFG  Men  1984                              0.050834   \n",
       "\n",
       "   Lower 95% uncertainty interval  Upper 95% uncertainty interval  \n",
       "0                        0.015339                        0.094918  \n",
       "1                        0.016883                        0.093777  \n",
       "2                        0.018745                        0.094018  \n",
       "3                        0.020375                        0.093950  \n",
       "4                        0.022269                        0.093679  "
      ]
     },
     "execution_count": 4,
     "metadata": {},
     "output_type": "execute_result"
    }
   ],
   "source": [
    "diabetes_data.head(5)"
   ]
  },
  {
   "cell_type": "code",
   "execution_count": 5,
   "id": "28a1bcbf",
   "metadata": {},
   "outputs": [],
   "source": [
    "diabetes_data.drop(columns=['Lower 95% uncertainty interval', 'Upper 95% uncertainty interval'], inplace=True)"
   ]
  },
  {
   "cell_type": "code",
   "execution_count": 6,
   "id": "3b001b82",
   "metadata": {},
   "outputs": [
    {
     "data": {
      "text/html": [
       "<div>\n",
       "<style scoped>\n",
       "    .dataframe tbody tr th:only-of-type {\n",
       "        vertical-align: middle;\n",
       "    }\n",
       "\n",
       "    .dataframe tbody tr th {\n",
       "        vertical-align: top;\n",
       "    }\n",
       "\n",
       "    .dataframe thead th {\n",
       "        text-align: right;\n",
       "    }\n",
       "</style>\n",
       "<table border=\"1\" class=\"dataframe\">\n",
       "  <thead>\n",
       "    <tr style=\"text-align: right;\">\n",
       "      <th></th>\n",
       "      <th>Country/Region/World</th>\n",
       "      <th>ISO</th>\n",
       "      <th>Sex</th>\n",
       "      <th>Year</th>\n",
       "      <th>Age-standardised diabetes prevalence</th>\n",
       "    </tr>\n",
       "  </thead>\n",
       "  <tbody>\n",
       "    <tr>\n",
       "      <th>0</th>\n",
       "      <td>Afghanistan</td>\n",
       "      <td>AFG</td>\n",
       "      <td>Men</td>\n",
       "      <td>1980</td>\n",
       "      <td>0.044712</td>\n",
       "    </tr>\n",
       "    <tr>\n",
       "      <th>1</th>\n",
       "      <td>Afghanistan</td>\n",
       "      <td>AFG</td>\n",
       "      <td>Men</td>\n",
       "      <td>1981</td>\n",
       "      <td>0.046114</td>\n",
       "    </tr>\n",
       "    <tr>\n",
       "      <th>2</th>\n",
       "      <td>Afghanistan</td>\n",
       "      <td>AFG</td>\n",
       "      <td>Men</td>\n",
       "      <td>1982</td>\n",
       "      <td>0.047601</td>\n",
       "    </tr>\n",
       "    <tr>\n",
       "      <th>3</th>\n",
       "      <td>Afghanistan</td>\n",
       "      <td>AFG</td>\n",
       "      <td>Men</td>\n",
       "      <td>1983</td>\n",
       "      <td>0.049173</td>\n",
       "    </tr>\n",
       "    <tr>\n",
       "      <th>4</th>\n",
       "      <td>Afghanistan</td>\n",
       "      <td>AFG</td>\n",
       "      <td>Men</td>\n",
       "      <td>1984</td>\n",
       "      <td>0.050834</td>\n",
       "    </tr>\n",
       "  </tbody>\n",
       "</table>\n",
       "</div>"
      ],
      "text/plain": [
       "  Country/Region/World  ISO  Sex  Year  Age-standardised diabetes prevalence\n",
       "0          Afghanistan  AFG  Men  1980                              0.044712\n",
       "1          Afghanistan  AFG  Men  1981                              0.046114\n",
       "2          Afghanistan  AFG  Men  1982                              0.047601\n",
       "3          Afghanistan  AFG  Men  1983                              0.049173\n",
       "4          Afghanistan  AFG  Men  1984                              0.050834"
      ]
     },
     "execution_count": 6,
     "metadata": {},
     "output_type": "execute_result"
    }
   ],
   "source": [
    "diabetes_data.head(5)"
   ]
  },
  {
   "cell_type": "code",
   "execution_count": 7,
   "id": "286b0f31",
   "metadata": {},
   "outputs": [
    {
     "data": {
      "text/plain": [
       "Country/Region/World                    0\n",
       "ISO                                     0\n",
       "Sex                                     0\n",
       "Year                                    0\n",
       "Age-standardised diabetes prevalence    0\n",
       "dtype: int64"
      ]
     },
     "execution_count": 7,
     "metadata": {},
     "output_type": "execute_result"
    }
   ],
   "source": [
    "diabetes_data.isnull().sum()"
   ]
  },
  {
   "cell_type": "code",
   "execution_count": 9,
   "id": "bc8cf7d4",
   "metadata": {},
   "outputs": [
    {
     "name": "stdout",
     "output_type": "stream",
     "text": [
      "<class 'pandas.core.frame.DataFrame'>\n",
      "RangeIndex: 14000 entries, 0 to 13999\n",
      "Data columns (total 5 columns):\n",
      " #   Column                                Non-Null Count  Dtype  \n",
      "---  ------                                --------------  -----  \n",
      " 0   Country/Region/World                  14000 non-null  object \n",
      " 1   ISO                                   14000 non-null  object \n",
      " 2   Sex                                   14000 non-null  object \n",
      " 3   Year                                  14000 non-null  int64  \n",
      " 4   Age-standardised diabetes prevalence  14000 non-null  float64\n",
      "dtypes: float64(1), int64(1), object(3)\n",
      "memory usage: 547.0+ KB\n"
     ]
    }
   ],
   "source": [
    "diabetes_data.info()"
   ]
  },
  {
   "cell_type": "code",
   "execution_count": 10,
   "id": "526c078e",
   "metadata": {},
   "outputs": [
    {
     "name": "stderr",
     "output_type": "stream",
     "text": [
      "C:\\Users\\user\\AppData\\Local\\Temp\\ipykernel_16168\\3477836576.py:1: FutureWarning: Dropping of nuisance columns in DataFrame reductions (with 'numeric_only=None') is deprecated; in a future version this will raise TypeError.  Select only valid columns before calling the reduction.\n",
      "  diabetes_data.mean()\n"
     ]
    },
    {
     "data": {
      "text/plain": [
       "Year                                    1997.000000\n",
       "Age-standardised diabetes prevalence       0.075125\n",
       "dtype: float64"
      ]
     },
     "execution_count": 10,
     "metadata": {},
     "output_type": "execute_result"
    }
   ],
   "source": [
    "diabetes_data.mean()"
   ]
  },
  {
   "cell_type": "code",
   "execution_count": 11,
   "id": "3a3a4225",
   "metadata": {},
   "outputs": [],
   "source": [
    "diabetes_data.to_csv (r'.\\Cleaned_Diabetes.csv', index = False, header=True)"
   ]
  },
  {
   "cell_type": "code",
   "execution_count": 12,
   "id": "ffbc13bb",
   "metadata": {},
   "outputs": [
    {
     "data": {
      "text/plain": [
       "<AxesSubplot:>"
      ]
     },
     "execution_count": 12,
     "metadata": {},
     "output_type": "execute_result"
    },
    {
     "data": {
      "image/png": "[encoded data removed]",
      "text/plain": [
       "<Figure size 432x288 with 1 Axes>"
      ]
     },
     "metadata": {
      "needs_background": "light"
     },
     "output_type": "display_data"
    }
   ],
   "source": [
    "diabetes_data.boxplot(column='Age-standardised diabetes prevalence')"
   ]
  },
  {
   "cell_type": "code",
   "execution_count": 13,
   "id": "07b2fca0",
   "metadata": {},
   "outputs": [
    {
     "data": {
      "text/plain": [
       "Men           AxesSubplot(0.1,0.15;0.363636x0.75)\n",
       "Women    AxesSubplot(0.536364,0.15;0.363636x0.75)\n",
       "dtype: object"
      ]
     },
     "execution_count": 13,
     "metadata": {},
     "output_type": "execute_result"
    },
    {
     "data": {
      "image/png": "[encoded data removed]",
      "text/plain": [
       "<Figure size 432x288 with 2 Axes>"
      ]
     },
     "metadata": {
      "needs_background": "light"
     },
     "output_type": "display_data"
    }
   ],
   "source": [
    "diabetes_data.groupby('Sex').boxplot(column='Age-standardised diabetes prevalence')"
   ]
  }
 ],
 "metadata": {
  "kernelspec": {
   "display_name": "Python 3 (ipykernel)",
   "language": "python",
   "name": "python3"
  },
  "language_info": {
   "codemirror_mode": {
    "name": "ipython",
    "version": 3
   },
   "file_extension": ".py",
   "mimetype": "text/x-python",
   "name": "python",
   "nbconvert_exporter": "python",
   "pygments_lexer": "ipython3",
   "version": "3.9.12"
  }
 },
 "nbformat": 4,
 "nbformat_minor": 5
}
